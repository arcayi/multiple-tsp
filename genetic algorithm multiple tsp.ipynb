{
  "nbformat": 4,
  "nbformat_minor": 2,
  "metadata": {
    "kernelspec": {
      "name": "python3",
      "display_name": "Python 3.7.7 64-bit ('data_dev': conda)"
    },
    "language_info": {
      "codemirror_mode": {
        "name": "ipython",
        "version": 3
      },
      "file_extension": ".py",
      "mimetype": "text/x-python",
      "name": "python",
      "nbconvert_exporter": "python",
      "pygments_lexer": "ipython3",
      "version": "3.7.7"
    },
    "colab": {
      "name": "genetic algorithm multiple tsp.ipynb",
      "provenance": [],
      "include_colab_link": true
    },
    "interpreter": {
      "hash": "5164fcf79b7474b036f7402bd61ef4d1f436c14bd8c911147b1e4cf6fe6f26eb"
    }
  },
  "cells": [
    {
      "cell_type": "code",
      "execution_count": 5,
      "source": [
        "import numpy as np\n",
        "import copy\n",
        "from tqdm import tqdm"
      ],
      "outputs": [],
      "metadata": {
        "id": "OZ5rKHsaCJiT"
      }
    },
    {
      "cell_type": "code",
      "execution_count": 2,
      "source": [
        "# Helper function to convert the coordinates into an adjacency matrix\n",
        "def coordinates_to_adjacency_matrix(data,ord=2):\n",
        "    a = np.zeros((len(data),len(data)))\n",
        "    for i in range(len(a)):\n",
        "        for j in range(len(a)):\n",
        "            if not i == j:\n",
        "                a[i][j] = np.linalg.norm(data[i] - data[j],ord=ord)\n",
        "    return a"
      ],
      "outputs": [],
      "metadata": {
        "collapsed": true,
        "id": "TzKUtAmrCJiV"
      }
    },
    {
      "cell_type": "code",
      "execution_count": 6,
      "source": [
        "# Load the graph problem from a .tsp.txt file\n",
        "data = np.loadtxt('data/eil51.tsp.txt', usecols=[1,2])\n",
        "# data = np.loadtxt('test/test1.txt', usecols=[0,1])\n",
        "# data"
      ],
      "outputs": [],
      "metadata": {
        "collapsed": true,
        "id": "rvRoSLrGCJiU"
      }
    },
    {
      "cell_type": "code",
      "execution_count": 7,
      "source": [
        "coordinates_to_adjacency_matrix(data,1)"
      ],
      "outputs": [
        {
          "output_type": "execute_result",
          "data": {
            "text/plain": [
              "array([[ 0., 15., 27., ..., 35., 34., 19.],\n",
              "       [15.,  0., 18., ..., 22., 19., 28.],\n",
              "       [27., 18.,  0., ..., 40., 31., 46.],\n",
              "       ...,\n",
              "       [35., 22., 40., ...,  0., 17., 30.],\n",
              "       [34., 19., 31., ..., 17.,  0., 29.],\n",
              "       [19., 28., 46., ..., 30., 29.,  0.]])"
            ]
          },
          "metadata": {},
          "execution_count": 7
        }
      ],
      "metadata": {}
    },
    {
      "cell_type": "code",
      "execution_count": 28,
      "source": [
        "class Chromosome():\n",
        "    \n",
        "    # Random generated Chromosome\n",
        "    #  m - number of traveling salesmans\n",
        "    # def __init__(self, number_of_cities, number_of_traveling_salesman, adj = coordinates_to_adjacency_matrix(data)):\n",
        "    def __init__(self, number_of_cities, number_of_traveling_salesman, adj):\n",
        "        self.n = number_of_cities\n",
        "        self.m = number_of_traveling_salesman\n",
        "        self.adj = adj\n",
        "        c = np.array(range(1,number_of_cities))\n",
        "        np.random.shuffle(c)\n",
        "        self.solution = np.array_split(c, self.m)\n",
        "        for i in range(len(self.solution)):\n",
        "            self.solution[i] = np.insert(self.solution[i],0,0)\n",
        "            self.solution[i] = np.append(self.solution[i],0)\n",
        "        self.fitness()\n",
        "            \n",
        "    # Evaluate the Chromosome - Fitness function\n",
        "    #  based on 2 features: \n",
        "    #   - overall cost (cumulated from all salesman)\n",
        "    #   - worst (longest) salesman cost\n",
        "    #  adj - adjacency matrix\n",
        "    def fitness(self):\n",
        "        self.cost = 0\n",
        "        self.minmax=0\n",
        "        # longest_salesman_fitness = []\n",
        "        # longest_salesman_length = 0\n",
        "        for i in range(self.m):\n",
        "            salesman = self.solution[i]\n",
        "            salesman_fitness = 0\n",
        "            for j in range(len(salesman) - 1):\n",
        "                salesman_fitness = salesman_fitness + self.adj[salesman[j]][salesman[j+1]]\n",
        "            self.cost = self.cost + salesman_fitness\n",
        "            # if len(salesman) > longest_salesman_length or (len(salesman) == longest_salesman_length and salesman_fitness > self.minmax):\n",
        "            #     longest_salesman_length = len(salesman)\n",
        "            #     self.minmax = salesman_fitness\n",
        "            # if len(salesman) > longest_salesman_length:\n",
        "            #     longest_salesman_length = len(salesman)\n",
        "            if salesman_fitness > self.minmax:\n",
        "                self.minmax = salesman_fitness\n",
        "        self.score = self.cost + self.minmax\n",
        "        # self.print()\n",
        "    \n",
        "    # Mutation operator - mutates a single Traveling Salesman\n",
        "    #  by swaping 2 cities\n",
        "    def mutate_local(self):\n",
        "        index = np.random.randint(0,self.m)\n",
        "        mutant = self.solution[index]\n",
        "        i,j = np.random.randint(1,len(mutant)-1), np.random.randint(1,len(mutant)-1)\n",
        "        mutant[i], mutant[j] = mutant[j], mutant[i]\n",
        "        old_cost = self.cost\n",
        "        self.fitness()\n",
        "    \n",
        "    # Mutation operator - mutates 2 Traveling Salesmans\n",
        "    #  by removing a city from a salesman and asigning it to the second one\n",
        "    def mutate_global(self):\n",
        "        for i in range(self.m):\n",
        "            if len(self.solution[i]) < 3:\n",
        "                print(i, self.solution[i])\n",
        "        \n",
        "        \n",
        "        index1, index2 = np.random.randint(0,self.m), np.random.randint(0,self.m)\n",
        "        while index1 == index2:\n",
        "            index1, index2 = np.random.randint(0,self.m), np.random.randint(0,self.m)\n",
        "        while len(self.solution[index1]) < 4:\n",
        "            index1, index2 = np.random.randint(0,self.m), np.random.randint(0,self.m)\n",
        "        mutant1, mutant2 = self.solution[index1], self.solution[index2]\n",
        "        i,j = np.random.randint(1,len(mutant1)-1), np.random.randint(1,len(mutant2)-1)\n",
        "        self.solution[index2] = np.insert(mutant2, j, mutant1[i])\n",
        "        self.solution[index1] = np.delete(mutant1, i)\n",
        "        old_cost = self.cost\n",
        "        self.fitness()\n",
        "    \n",
        "    # PMX Crossover\n",
        "    def crossover(self, chromosome):\n",
        "        for index in range(self.m):\n",
        "            salesman1, salesman2 = self.solution[index], chromosome.solution[index]\n",
        "            for i in range(1,min(len(salesman1),len(salesman2))-1):\n",
        "                if salesman2[i] in salesman1:\n",
        "                    salesman1[i], salesman1[salesman1.tolist().index(salesman2[i])] = salesman1[salesman1.tolist().index(salesman2[i])], salesman1[i]\n",
        "        self.fitness()\n",
        "\n",
        "    def print(self):\n",
        "        total_cost = 0\n",
        "        minmax = 0\n",
        "        for i in range(self.m):\n",
        "            salesman = self.solution[i]\n",
        "            cost=0\n",
        "            print(i+1, \":  \", self.solution[i][0]+1, end=\"\", sep=\"\")\n",
        "            for j in range(1,len(self.solution[i])):\n",
        "                # print(\"-\", self.solution[i][j]+1, end=\"\", sep=\"\")\n",
        "                dist=self.adj[salesman[j-1]][salesman[j]]\n",
        "                print(\"[%.0f]%d\"%(dist,self.solution[i][j]+1), end=\"\", sep=\"\")\n",
        "                cost+=dist\n",
        "            total_cost+=cost\n",
        "            if cost>minmax:\n",
        "                minmax = cost\n",
        "            print(\" --- %.0f#\"%(cost), len(self.solution[i]))\n",
        "        print(\"Cost:   \\t%.1f\\t%.1f\"%(self.cost,total_cost))\n",
        "        print(\"Minmax: \\t%.1f\\t%.1f\"%(self.minmax,minmax))\n",
        "        # print(\"Cost:   \\t%.1f\"%(total_cost))\n",
        "        # print(\"Minmax: \\t%.1f\"%(minmax))\n"
      ],
      "outputs": [],
      "metadata": {
        "collapsed": true,
        "id": "mkwrtg9BCJiV"
      }
    },
    {
      "cell_type": "code",
      "execution_count": 29,
      "source": [
        "class Population():\n",
        "    \n",
        "    def __init__(self, adj, population_size = 50):\n",
        "        self.population = []\n",
        "        self.population_size = population_size\n",
        "        self.adj = adj\n",
        "        for i in range(population_size):\n",
        "            self.population.append(Chromosome(number_of_cities = 51, number_of_traveling_salesman = 2, adj=self.adj))\n",
        "    \n",
        "    # Genetic Algorithm\n",
        "    def run_genetic_algorithm(self, number_of_iterations = 1000, mutation_probability = 0.7, crossover_probability = 0.7):\n",
        "        \n",
        "        # Run for a fixed number of iterations\n",
        "        for it in tqdm(range(number_of_iterations)):\n",
        "            \n",
        "            # Tournament selection\n",
        "            k = self.population_size\n",
        "            j = (int)(self.population_size * 0.6)\n",
        "            for _ in range(self.population_size - k):\n",
        "                del self.population[-np.random.randint(0,len(self.population))]\n",
        "            for _ in range(k - j):\n",
        "                worst_chromosome_score = self.population[0].score\n",
        "                worst_chromosome_index = 0\n",
        "                for i in range(1,len(self.population)):\n",
        "                    if self.population[i].score > worst_chromosome_score:\n",
        "                        worst_chromosome_score = self.population[i].score\n",
        "                        worst_chromosome_index = i\n",
        "                del self.population[-worst_chromosome_index]\n",
        "                \n",
        "            for _ in range(self.population_size - len(self.population)):\n",
        "                self.population.append(Chromosome(number_of_cities = 51, number_of_traveling_salesman = 2, adj=self.adj))\n",
        "            \n",
        "            # Mutate globally\n",
        "            for index in range(len(self.population)):\n",
        "                if np.random.random(1)[0] < mutation_probability:\n",
        "                    chromosome = copy.deepcopy(self.population[index])\n",
        "                    chromosome.mutate_global()\n",
        "                    if chromosome.score < self.population[index].score:\n",
        "                        self.population[index] = chromosome\n",
        "                \n",
        "            # Mutate locally\n",
        "            for index in range(len(self.population)):\n",
        "                if np.random.random(1)[0] < mutation_probability:\n",
        "                    chromosome = copy.deepcopy(self.population[index])\n",
        "                    chromosome.mutate_local()\n",
        "                    if chromosome.score < self.population[index].score:\n",
        "                        self.population[index] = chromosome\n",
        "                \n",
        "            # Crossover\n",
        "            for index1 in range(len(self.population)):\n",
        "                if np.random.random(1)[0] < crossover_probability:\n",
        "                    index2 = np.random.randint(0,len(self.population))\n",
        "                    if index1 == index2:\n",
        "                        index2 = np.random.randint(0,len(self.population))\n",
        "                    child1 = copy.deepcopy(self.population[index1])\n",
        "                    child2 = copy.deepcopy(self.population[index2])\n",
        "                    child1.crossover(self.population[index2])\n",
        "                    child2.crossover(self.population[index1])\n",
        "                    if child1.score < self.population[index1].score:\n",
        "                        self.population[index1] = child1\n",
        "                    if child2.score < self.population[index2].score:\n",
        "                        self.population[index2] = child2\n",
        "    \n",
        "    # Print the overall cost and the minmax cost of the best chromosome \n",
        "    def get_best_result(self):\n",
        "        best_chromosome = self.population[0]\n",
        "        for i in range(1,self.population_size):\n",
        "            if self.population[i].score < best_chromosome.score:\n",
        "                best_chromosome = self.population[i]\n",
        "        best_chromosome.print()\n",
        "        # print(\"Overall cost: \", best_chromosome.cost)\n",
        "        # print(\"Minmax cost: \", best_chromosome.minmax)\n",
        "    "
      ],
      "outputs": [],
      "metadata": {
        "collapsed": true,
        "id": "tV2cqtNCCJiW"
      }
    },
    {
      "cell_type": "code",
      "execution_count": 30,
      "source": [
        "data = np.loadtxt('data/eil51.tsp.txt', usecols=[1,2])\n",
        "\n",
        "n_of_ts=2\n",
        "coordinates=data\n",
        "order=1\n",
        "cycle=10000\n",
        "population_size=100\n",
        "\n",
        "adjacency = coordinates_to_adjacency_matrix(coordinates,ord=order)\n",
        "pop = Population(adj=adjacency, population_size=population_size)"
      ],
      "outputs": [],
      "metadata": {
        "id": "nkliYImxCJiY",
        "outputId": "fcc3d93b-90f0-4c37-9cfa-b36a601d2135"
      }
    },
    {
      "cell_type": "code",
      "execution_count": 35,
      "source": [
        "# pop.run_genetic_algorithm(number_of_iterations=cycle)\n",
        "pop.run_genetic_algorithm(number_of_iterations=1000)\n"
      ],
      "outputs": [
        {
          "output_type": "stream",
          "name": "stderr",
          "text": [
            "100%|██████████| 1000/1000 [01:16<00:00, 13.04it/s]\n"
          ]
        }
      ],
      "metadata": {}
    },
    {
      "cell_type": "markdown",
      "source": [
        "## Print best solution"
      ],
      "metadata": {
        "id": "cO5RDzNBCJiZ"
      }
    },
    {
      "cell_type": "code",
      "execution_count": 36,
      "source": [
        "pop.get_best_result()"
      ],
      "outputs": [
        {
          "output_type": "stream",
          "name": "stdout",
          "text": [
            "1:  1[11]27[10]32[14]51[9]12[11]37[26]33[7]45[9]15[7]44[22]41[16]40[15]19[11]42[19]17[21]46[19]6[20]7[15]8[16]22[16]20[10]35[21]21[10]34[9]9[39]4[34]48[15]1 --- 432# 28\n",
            "2:  1[25]5[21]30[13]39[14]10[10]49[52]31[11]26[17]28[22]36[16]3[31]50[8]16[13]29[10]2[15]11[9]38[23]47[9]18[20]13[15]25[9]14[14]24[15]43[18]23[26]1 --- 436# 26\n",
            "Cost:   \t868.0\t868.0\n",
            "Minmax: \t436.0\t436.0\n"
          ]
        }
      ],
      "metadata": {}
    }
  ]
}