{
  "nbformat": 4,
  "nbformat_minor": 0,
  "metadata": {
    "kernelspec": {
      "display_name": "Python 3",
      "language": "python",
      "name": "python3"
    },
    "language_info": {
      "codemirror_mode": {
        "name": "ipython",
        "version": 3
      },
      "file_extension": ".py",
      "mimetype": "text/x-python",
      "name": "python",
      "nbconvert_exporter": "python",
      "pygments_lexer": "ipython3",
      "version": "3.5.2"
    },
    "colab": {
      "name": "genetic algorithm multiple tsp.ipynb",
      "provenance": [],
      "include_colab_link": true
    }
  },
  "cells": [
    {
      "cell_type": "markdown",
      "metadata": {
        "id": "view-in-github",
        "colab_type": "text"
      },
      "source": [
        "<a href=\"https://colab.research.google.com/github/arcayi/multiple-tsp/blob/master/genetic%20algorithm%20multiple%20tsp.ipynb\" target=\"_parent\"><img src=\"https://colab.research.google.com/assets/colab-badge.svg\" alt=\"Open In Colab\"/></a>"
      ]
    },
    {
      "cell_type": "code",
      "metadata": {
        "id": "OZ5rKHsaCJiT"
      },
      "source": [
        "import numpy as np\n",
        "import copy\n",
        "from tqdm import tqdm"
      ],
      "execution_count": 1,
      "outputs": []
    },
    {
      "cell_type": "code",
      "metadata": {
        "collapsed": true,
        "id": "rvRoSLrGCJiU"
      },
      "source": [
        "# Load the graph problem from a .tsp.txt file\n",
        "# data = np.loadtxt('data/eil51.tsp.txt', usecols=[1,2])\n",
        "url = 'https://raw.githubusercontent.com/arcayi/multiple-tsp/master/data/eil51.tsp.txt'\n",
        "data = np.loadtxt(url, usecols=[1,2])"
      ],
      "execution_count": 4,
      "outputs": []
    },
    {
      "cell_type": "code",
      "metadata": {
        "collapsed": true,
        "id": "TzKUtAmrCJiV"
      },
      "source": [
        "# Helper function to convert the coordinates into an adjacency matrix\n",
        "def coordinates_to_adjacency_matrix(data):\n",
        "    a = np.zeros((len(data),len(data)))\n",
        "    for i in range(len(a)):\n",
        "        for j in range(len(a)):\n",
        "            if not i == j:\n",
        "                a[i][j] = np.linalg.norm(data[i] - data[j])\n",
        "    return a"
      ],
      "execution_count": null,
      "outputs": []
    },
    {
      "cell_type": "code",
      "metadata": {
        "collapsed": true,
        "id": "mkwrtg9BCJiV"
      },
      "source": [
        "class Chromosome():\n",
        "    \n",
        "    # Random generated Chromosome\n",
        "    #  m - number of traveling salesmans\n",
        "    def __init__(self, number_of_cities, number_of_traveling_salesman, adj = coordinates_to_adjacency_matrix(data)):\n",
        "        self.n = number_of_cities\n",
        "        self.m = number_of_traveling_salesman\n",
        "        self.adj = adj\n",
        "        c = np.array(range(1,number_of_cities))\n",
        "        np.random.shuffle(c)\n",
        "        self.solution = np.array_split(c, self.m)\n",
        "        for i in range(len(self.solution)):\n",
        "            self.solution[i] = np.insert(self.solution[i],0,0)\n",
        "            self.solution[i] = np.append(self.solution[i],0)\n",
        "        self.fitness()\n",
        "            \n",
        "    # Evaluate the Chromosome - Fitness function\n",
        "    #  based on 2 features: \n",
        "    #   - overall cost (cumulated from all salesman)\n",
        "    #   - worst (longest) salesman cost\n",
        "    #  adj - adjacency matrix\n",
        "    def fitness(self):\n",
        "        self.cost = 0\n",
        "        longest_salesman_fitness = []\n",
        "        longest_salesman_length = 0\n",
        "        for i in range(self.m):\n",
        "            salesman = self.solution[i]\n",
        "            salesman_fitness = 0\n",
        "            for j in range(len(salesman) - 1):\n",
        "                salesman_fitness = salesman_fitness + self.adj[salesman[j]][salesman[j+1]]\n",
        "            self.cost = self.cost + salesman_fitness\n",
        "            if len(salesman) > longest_salesman_length or (len(salesman) == longest_salesman_length and salesman_fitness > self.minmax):\n",
        "                longest_salesman_length = len(salesman)\n",
        "                self.minmax = salesman_fitness\n",
        "        self.score = self.cost + self.minmax\n",
        "    \n",
        "    # Mutation operator - mutates a single Traveling Salesman\n",
        "    #  by swaping 2 cities\n",
        "    def mutate_local(self):\n",
        "        index = np.random.randint(0,self.m)\n",
        "        mutant = self.solution[index]\n",
        "        i,j = np.random.randint(1,len(mutant)-1), np.random.randint(1,len(mutant)-1)\n",
        "        mutant[i], mutant[j] = mutant[j], mutant[i]\n",
        "        old_cost = self.cost\n",
        "        self.fitness()\n",
        "    \n",
        "    # Mutation operator - mutates 2 Traveling Salesmans\n",
        "    #  by removing a city from a salesman and asigning it to the second one\n",
        "    def mutate_global(self):\n",
        "        for i in range(self.m):\n",
        "            if len(self.solution[i]) < 3:\n",
        "                print(i, self.solution[i])\n",
        "        \n",
        "        \n",
        "        index1, index2 = np.random.randint(0,self.m), np.random.randint(0,self.m)\n",
        "        while index1 == index2:\n",
        "            index1, index2 = np.random.randint(0,self.m), np.random.randint(0,self.m)\n",
        "        while len(self.solution[index1]) < 4:\n",
        "            index1, index2 = np.random.randint(0,self.m), np.random.randint(0,self.m)\n",
        "        mutant1, mutant2 = self.solution[index1], self.solution[index2]\n",
        "        i,j = np.random.randint(1,len(mutant1)-1), np.random.randint(1,len(mutant2)-1)\n",
        "        self.solution[index2] = np.insert(mutant2, j, mutant1[i])\n",
        "        self.solution[index1] = np.delete(mutant1, i)\n",
        "        old_cost = self.cost\n",
        "        self.fitness()\n",
        "    \n",
        "    # PMX Crossover\n",
        "    def crossover(self, chromosome):\n",
        "        for index in range(self.m):\n",
        "            salesman1, salesman2 = self.solution[index], chromosome.solution[index]\n",
        "            for i in range(1,min(len(salesman1),len(salesman2))-1):\n",
        "                if salesman2[i] in salesman1:\n",
        "                    salesman1[i], salesman1[salesman1.tolist().index(salesman2[i])] = salesman1[salesman1.tolist().index(salesman2[i])], salesman1[i]\n",
        "        self.fitness()\n",
        "        "
      ],
      "execution_count": null,
      "outputs": []
    },
    {
      "cell_type": "code",
      "metadata": {
        "collapsed": true,
        "id": "tV2cqtNCCJiW"
      },
      "source": [
        "class Population():\n",
        "    \n",
        "    def __init__(self, population_size = 50, adj = coordinates_to_adjacency_matrix(data)):\n",
        "        self.population = []\n",
        "        self.population_size = population_size\n",
        "        self.adj = adj\n",
        "        for i in range(population_size):\n",
        "            self.population.append(Chromosome(number_of_cities = 51, number_of_traveling_salesman = 2))\n",
        "    \n",
        "    # Genetic Algorithm\n",
        "    def run_genetic_algorithm(self, number_of_iterations = 1000, mutation_probability = 0.7, crossover_probability = 0.7):\n",
        "        \n",
        "        # Run for a fixed number of iterations\n",
        "        for it in tqdm(range(number_of_iterations)):\n",
        "            \n",
        "            # Tournament selection\n",
        "            k = self.population_size\n",
        "            j = (int)(self.population_size * 0.6)\n",
        "            for _ in range(self.population_size - k):\n",
        "                del self.population[-np.random.randint(0,len(self.population))]\n",
        "            for _ in range(k - j):\n",
        "                worst_chromosome_score = self.population[0].score\n",
        "                worst_chromosome_index = 0\n",
        "                for i in range(1,len(self.population)):\n",
        "                    if self.population[i].score > worst_chromosome_score:\n",
        "                        worst_chromosome_score = self.population[i].score\n",
        "                        worst_chromosome_index = i\n",
        "                del self.population[-worst_chromosome_index]\n",
        "                \n",
        "            for _ in range(self.population_size - len(self.population)):\n",
        "                self.population.append(Chromosome(number_of_cities = 51, number_of_traveling_salesman = 2))\n",
        "            \n",
        "            # Mutate globally\n",
        "            for index in range(len(self.population)):\n",
        "                if np.random.random(1)[0] < mutation_probability:\n",
        "                    chromosome = copy.deepcopy(self.population[index])\n",
        "                    chromosome.mutate_global()\n",
        "                    if chromosome.score < self.population[index].score:\n",
        "                        self.population[index] = chromosome\n",
        "                \n",
        "            # Mutate locally\n",
        "            for index in range(len(self.population)):\n",
        "                if np.random.random(1)[0] < mutation_probability:\n",
        "                    chromosome = copy.deepcopy(self.population[index])\n",
        "                    chromosome.mutate_local()\n",
        "                    if chromosome.score < self.population[index].score:\n",
        "                        self.population[index] = chromosome\n",
        "                \n",
        "            # Crossover\n",
        "            for index1 in range(len(self.population)):\n",
        "                if np.random.random(1)[0] < crossover_probability:\n",
        "                    index2 = np.random.randint(0,len(self.population))\n",
        "                    if index1 == index2:\n",
        "                        index2 = np.random.randint(0,len(self.population))\n",
        "                    child1 = copy.deepcopy(self.population[index1])\n",
        "                    child2 = copy.deepcopy(self.population[index2])\n",
        "                    child1.crossover(self.population[index2])\n",
        "                    child2.crossover(self.population[index1])\n",
        "                    if child1.score < self.population[index1].score:\n",
        "                        self.population[index1] = child1\n",
        "                    if child2.score < self.population[index2].score:\n",
        "                        self.population[index2] = child2\n",
        "    \n",
        "    # Print the overall cost and the minmax cost of the best chromosome \n",
        "    def get_best_result(self):\n",
        "        best_chromosome = self.population[0]\n",
        "        for i in range(1,self.population_size):\n",
        "            if self.population[i].score < best_chromosome.score:\n",
        "                best_chromosome = self.population[i]\n",
        "        print(\"Overall cost: \", best_chromosome.cost)\n",
        "        print(\"Minmax cost: \", best_chromosome.minmax)\n",
        "    "
      ],
      "execution_count": null,
      "outputs": []
    },
    {
      "cell_type": "markdown",
      "metadata": {
        "id": "KZejxKTVCJiX"
      },
      "source": [
        "---"
      ]
    },
    {
      "cell_type": "markdown",
      "metadata": {
        "id": "pj5DPwriCJiX"
      },
      "source": [
        "## Run the Genetic Algorithm"
      ]
    },
    {
      "cell_type": "code",
      "metadata": {
        "id": "nkliYImxCJiY",
        "outputId": "fcc3d93b-90f0-4c37-9cfa-b36a601d2135"
      },
      "source": [
        "pop = Population(population_size=100)\n",
        "pop.run_genetic_algorithm(number_of_iterations=10000)\n",
        "pop.get_best_result()"
      ],
      "execution_count": null,
      "outputs": [
        {
          "name": "stderr",
          "output_type": "stream",
          "text": [
            "100%|██████████| 10000/10000 [05:11<00:00, 32.15it/s]"
          ]
        },
        {
          "name": "stdout",
          "output_type": "stream",
          "text": [
            "Overall cost:  538.249922041\n",
            "Minmax cost:  275.26774459\n"
          ]
        },
        {
          "name": "stderr",
          "output_type": "stream",
          "text": [
            "\n"
          ]
        }
      ]
    },
    {
      "cell_type": "markdown",
      "metadata": {
        "id": "cO5RDzNBCJiZ"
      },
      "source": [
        "## Print best solution"
      ]
    },
    {
      "cell_type": "code",
      "metadata": {
        "id": "ayvkhfPNCJiZ",
        "outputId": "1333dea3-c524-4a8c-a5d3-78b67cdec424"
      },
      "source": [
        "# Iterate through population and get the best solution\n",
        "best_chromosome = pop.population[0]\n",
        "for i in range(1,pop.population_size):\n",
        "    if pop.population[i].score < best_chromosome.score:\n",
        "        best_chromosome = pop.population[i]\n",
        "        \n",
        "# Print best solution\n",
        "for i in range(best_chromosome.m):\n",
        "    print(i+1, \":  \", best_chromosome.solution[i][0]+1, end=\"\", sep=\"\")\n",
        "    for j in range(1,len(best_chromosome.solution[i])):\n",
        "        print(\"-\", best_chromosome.solution[i][j]+1, end=\"\", sep=\"\")\n",
        "    print(\" --- #\", len(best_chromosome.solution[i]))\n",
        "print()\n",
        "\n",
        "# Print cost\n",
        "print(\"Cost: \", best_chromosome.cost)\n",
        "print(\"Minmax: \", best_chromosome.minmax)"
      ],
      "execution_count": null,
      "outputs": [
        {
          "name": "stdout",
          "output_type": "stream",
          "text": [
            "1:  1-28-31-26-8-6-14-25-24-43-7-23-48-27-32-16-9-49-38-11-22-3-36-35-20-1 --- # 26\n",
            "2:  1-46-51-18-13-41-40-19-42-44-15-37-17-4-47-12-5-50-30-10-45-33-39-34-21-29-2-1 --- # 28\n",
            "\n",
            "Cost:  538.249922041\n",
            "Minmax:  275.26774459\n"
          ]
        }
      ]
    },
    {
      "cell_type": "markdown",
      "metadata": {
        "id": "bF9BH66ACJiZ"
      },
      "source": [
        "---"
      ]
    }
  ]
}