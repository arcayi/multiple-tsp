{
  "nbformat": 4,
  "nbformat_minor": 0,
  "metadata": {
    "kernelspec": {
      "name": "python3",
      "display_name": "Python 3.7.7 64-bit ('data_dev': conda)"
    },
    "language_info": {
      "codemirror_mode": {
        "name": "ipython",
        "version": 3
      },
      "file_extension": ".py",
      "mimetype": "text/x-python",
      "name": "python",
      "nbconvert_exporter": "python",
      "pygments_lexer": "ipython3",
      "version": "3.7.7"
    },
    "colab": {
      "name": "genetic algorithm multiple tsp.ipynb",
      "provenance": [],
      "include_colab_link": true
    },
    "interpreter": {
      "hash": "5164fcf79b7474b036f7402bd61ef4d1f436c14bd8c911147b1e4cf6fe6f26eb"
    }
  },
  "cells": [
    {
      "cell_type": "code",
      "metadata": {
        "id": "OZ5rKHsaCJiT"
      },
      "source": [
        "import numpy as np\n",
        "import copy\n",
        "from tqdm import tqdm"
      ],
      "execution_count": 1,
      "outputs": []
    },
    {
      "cell_type": "code",
      "metadata": {
        "collapsed": true,
        "id": "rvRoSLrGCJiU"
      },
      "source": [
        "# Load the graph problem from a .tsp.txt file\n",
        "# data = np.loadtxt('data/eil51.tsp.txt', usecols=[1,2])\n",
        "# data = np.loadtxt('test/test1.txt', usecols=[0,1])\n",
        "# data"
      ],
      "execution_count": 2,
      "outputs": []
    },
    {
      "cell_type": "code",
      "metadata": {
        "collapsed": true,
        "id": "TzKUtAmrCJiV"
      },
      "source": [
        "# Helper function to convert the coordinates into an adjacency matrix\n",
        "def coordinates_to_adjacency_matrix(data,ord=2):\n",
        "    a = np.zeros((len(data),len(data)))\n",
        "    for i in range(len(a)):\n",
        "        for j in range(len(a)):\n",
        "            if not i == j:\n",
        "                a[i][j] = np.linalg.norm(data[i] - data[j],ord=ord)\n",
        "    return a"
      ],
      "execution_count": 3,
      "outputs": []
    },
    {
      "cell_type": "code",
      "metadata": {
        "collapsed": true,
        "id": "mkwrtg9BCJiV"
      },
      "source": [
        "class Chromosome():\n",
        "    \n",
        "    # Random generated Chromosome\n",
        "    #  m - number of traveling salesmans\n",
        "    # def __init__(self, number_of_cities, number_of_traveling_salesman, adj = coordinates_to_adjacency_matrix(data)):\n",
        "    def __init__(self, number_of_cities, number_of_traveling_salesman, adj):\n",
        "        self.n = number_of_cities\n",
        "        self.m = number_of_traveling_salesman\n",
        "        self.adj = adj\n",
        "        c = np.array(range(1,number_of_cities))\n",
        "        np.random.shuffle(c)\n",
        "        self.solution = np.array_split(c, self.m)\n",
        "        for i in range(len(self.solution)):\n",
        "            self.solution[i] = np.insert(self.solution[i],0,0)\n",
        "            self.solution[i] = np.append(self.solution[i],0)\n",
        "        self.fitness()\n",
        "            \n",
        "    # Evaluate the Chromosome - Fitness function\n",
        "    #  based on 2 features: \n",
        "    #   - overall cost (cumulated from all salesman)\n",
        "    #   - worst (longest) salesman cost\n",
        "    #  adj - adjacency matrix\n",
        "    def fitness(self):\n",
        "        self.cost = 0\n",
        "        longest_salesman_fitness = []\n",
        "        longest_salesman_length = 0\n",
        "        for i in range(self.m):\n",
        "            salesman = self.solution[i]\n",
        "            salesman_fitness = 0\n",
        "            for j in range(len(salesman) - 1):\n",
        "                salesman_fitness = salesman_fitness + self.adj[salesman[j]][salesman[j+1]]\n",
        "            self.cost = self.cost + salesman_fitness\n",
        "            if len(salesman) > longest_salesman_length or (len(salesman) == longest_salesman_length and salesman_fitness > self.minmax):\n",
        "                longest_salesman_length = len(salesman)\n",
        "                self.minmax = salesman_fitness\n",
        "        self.score = self.cost + self.minmax\n",
        "    \n",
        "    # Mutation operator - mutates a single Traveling Salesman\n",
        "    #  by swaping 2 cities\n",
        "    def mutate_local(self):\n",
        "        index = np.random.randint(0,self.m)\n",
        "        mutant = self.solution[index]\n",
        "        i,j = np.random.randint(1,len(mutant)-1), np.random.randint(1,len(mutant)-1)\n",
        "        mutant[i], mutant[j] = mutant[j], mutant[i]\n",
        "        old_cost = self.cost\n",
        "        self.fitness()\n",
        "    \n",
        "    # Mutation operator - mutates 2 Traveling Salesmans\n",
        "    #  by removing a city from a salesman and asigning it to the second one\n",
        "    def mutate_global(self):\n",
        "        for i in range(self.m):\n",
        "            if len(self.solution[i]) < 3:\n",
        "                print(i, self.solution[i])\n",
        "        \n",
        "        \n",
        "        index1, index2 = np.random.randint(0,self.m), np.random.randint(0,self.m)\n",
        "        while index1 == index2:\n",
        "            index1, index2 = np.random.randint(0,self.m), np.random.randint(0,self.m)\n",
        "        while len(self.solution[index1]) < 4:\n",
        "            index1, index2 = np.random.randint(0,self.m), np.random.randint(0,self.m)\n",
        "        mutant1, mutant2 = self.solution[index1], self.solution[index2]\n",
        "        i,j = np.random.randint(1,len(mutant1)-1), np.random.randint(1,len(mutant2)-1)\n",
        "        self.solution[index2] = np.insert(mutant2, j, mutant1[i])\n",
        "        self.solution[index1] = np.delete(mutant1, i)\n",
        "        old_cost = self.cost\n",
        "        self.fitness()\n",
        "    \n",
        "    # PMX Crossover\n",
        "    def crossover(self, chromosome):\n",
        "        for index in range(self.m):\n",
        "            salesman1, salesman2 = self.solution[index], chromosome.solution[index]\n",
        "            for i in range(1,min(len(salesman1),len(salesman2))-1):\n",
        "                if salesman2[i] in salesman1:\n",
        "                    salesman1[i], salesman1[salesman1.tolist().index(salesman2[i])] = salesman1[salesman1.tolist().index(salesman2[i])], salesman1[i]\n",
        "        self.fitness()\n",
        "\n",
        "    def print(self):\n",
        "        total_cost = 0\n",
        "        minmax = 0\n",
        "        for i in range(self.m):\n",
        "            salesman = self.solution[i]\n",
        "            cost=0\n",
        "            print(i+1, \":  \", self.solution[i][0]+1, end=\"\", sep=\"\")\n",
        "            for j in range(1,len(self.solution[i])):\n",
        "                # print(\"-\", self.solution[i][j]+1, end=\"\", sep=\"\")\n",
        "                dist=self.adj[salesman[j-1]][salesman[j]]\n",
        "                print(\"[%.0f]%d\"%(dist,self.solution[i][j]+1), end=\"\", sep=\"\")\n",
        "                cost+=dist\n",
        "            total_cost+=cost\n",
        "            if cost>minmax:\n",
        "                minmax = cost\n",
        "            print(\" --- %.0f#\"%(cost), len(self.solution[i]))\n",
        "        # print(\"Cost:   \\t%.1f\\t%.1f\"%(self.cost,total_cost))\n",
        "        # print(\"Minmax: \\t%.1f\\t%.1f\"%(self.minmax,minmax))\n",
        "        print(\"Cost:   \\t%.1f\"%(total_cost))\n",
        "        print(\"Minmax: \\t%.1f\"%(minmax))\n"
      ],
      "execution_count": 4,
      "outputs": []
    },
    {
      "cell_type": "code",
      "metadata": {
        "collapsed": true,
        "id": "tV2cqtNCCJiW"
      },
      "source": [
        "class Population():\n",
        "    \n",
        "    def __init__(self, adj, population_size = 50):\n",
        "        self.population = []\n",
        "        self.population_size = population_size\n",
        "        self.adj = adj\n",
        "        for i in range(population_size):\n",
        "            self.population.append(Chromosome(number_of_cities = 51, number_of_traveling_salesman = 2, adj=self.adj))\n",
        "    \n",
        "    # Genetic Algorithm\n",
        "    def run_genetic_algorithm(self, number_of_iterations = 1000, mutation_probability = 0.7, crossover_probability = 0.7):\n",
        "        \n",
        "        # Run for a fixed number of iterations\n",
        "        for it in tqdm(range(number_of_iterations)):\n",
        "            \n",
        "            # Tournament selection\n",
        "            k = self.population_size\n",
        "            j = (int)(self.population_size * 0.6)\n",
        "            for _ in range(self.population_size - k):\n",
        "                del self.population[-np.random.randint(0,len(self.population))]\n",
        "            for _ in range(k - j):\n",
        "                worst_chromosome_score = self.population[0].score\n",
        "                worst_chromosome_index = 0\n",
        "                for i in range(1,len(self.population)):\n",
        "                    if self.population[i].score > worst_chromosome_score:\n",
        "                        worst_chromosome_score = self.population[i].score\n",
        "                        worst_chromosome_index = i\n",
        "                del self.population[-worst_chromosome_index]\n",
        "                \n",
        "            for _ in range(self.population_size - len(self.population)):\n",
        "                self.population.append(Chromosome(number_of_cities = 51, number_of_traveling_salesman = 2, adj=self.adj))\n",
        "            \n",
        "            # Mutate globally\n",
        "            for index in range(len(self.population)):\n",
        "                if np.random.random(1)[0] < mutation_probability:\n",
        "                    chromosome = copy.deepcopy(self.population[index])\n",
        "                    chromosome.mutate_global()\n",
        "                    if chromosome.score < self.population[index].score:\n",
        "                        self.population[index] = chromosome\n",
        "                \n",
        "            # Mutate locally\n",
        "            for index in range(len(self.population)):\n",
        "                if np.random.random(1)[0] < mutation_probability:\n",
        "                    chromosome = copy.deepcopy(self.population[index])\n",
        "                    chromosome.mutate_local()\n",
        "                    if chromosome.score < self.population[index].score:\n",
        "                        self.population[index] = chromosome\n",
        "                \n",
        "            # Crossover\n",
        "            for index1 in range(len(self.population)):\n",
        "                if np.random.random(1)[0] < crossover_probability:\n",
        "                    index2 = np.random.randint(0,len(self.population))\n",
        "                    if index1 == index2:\n",
        "                        index2 = np.random.randint(0,len(self.population))\n",
        "                    child1 = copy.deepcopy(self.population[index1])\n",
        "                    child2 = copy.deepcopy(self.population[index2])\n",
        "                    child1.crossover(self.population[index2])\n",
        "                    child2.crossover(self.population[index1])\n",
        "                    if child1.score < self.population[index1].score:\n",
        "                        self.population[index1] = child1\n",
        "                    if child2.score < self.population[index2].score:\n",
        "                        self.population[index2] = child2\n",
        "    \n",
        "    # Print the overall cost and the minmax cost of the best chromosome \n",
        "    def get_best_result(self):\n",
        "        best_chromosome = self.population[0]\n",
        "        for i in range(1,self.population_size):\n",
        "            if self.population[i].score < best_chromosome.score:\n",
        "                best_chromosome = self.population[i]\n",
        "        print(\"Overall cost: \", best_chromosome.cost)\n",
        "        print(\"Minmax cost: \", best_chromosome.minmax)\n",
        "    "
      ],
      "execution_count": 8,
      "outputs": []
    },
    {
      "cell_type": "code",
      "metadata": {
        "id": "nkliYImxCJiY",
        "outputId": "fcc3d93b-90f0-4c37-9cfa-b36a601d2135"
      },
      "source": [
        "data = np.loadtxt('data/eil51.tsp.txt', usecols=[1,2])\n",
        "\n",
        "n_of_ts=2\n",
        "coordinates=data\n",
        "order=1\n",
        "cycle=10000\n",
        "population_size=100\n",
        "\n",
        "adjacency = coordinates_to_adjacency_matrix(coordinates,ord=order)\n",
        "pop = Population(adj=adjacency, population_size=population_size)\n",
        "pop.run_genetic_algorithm(number_of_iterations=cycle)\n",
        "pop.get_best_result()"
      ],
      "execution_count": 6,
      "outputs": [
        {
          "output_type": "stream",
          "name": "stderr",
          "text": [
            "  0%|          | 0/100000 [00:00<?, ?it/s]\n"
          ]
        },
        {
          "output_type": "error",
          "ename": "NameError",
          "evalue": "name 'adj' is not defined",
          "traceback": [
            "\u001b[1;31m---------------------------------------------------------------------------\u001b[0m",
            "\u001b[1;31mNameError\u001b[0m                                 Traceback (most recent call last)",
            "\u001b[1;32m<ipython-input-6-19ea91a12057>\u001b[0m in \u001b[0;36m<module>\u001b[1;34m\u001b[0m\n\u001b[0;32m      8\u001b[0m \u001b[0madjacency\u001b[0m \u001b[1;33m=\u001b[0m \u001b[0mcoordinates_to_adjacency_matrix\u001b[0m\u001b[1;33m(\u001b[0m\u001b[0mcoordinates\u001b[0m\u001b[1;33m,\u001b[0m\u001b[0mord\u001b[0m\u001b[1;33m=\u001b[0m\u001b[0morder\u001b[0m\u001b[1;33m)\u001b[0m\u001b[1;33m\u001b[0m\u001b[1;33m\u001b[0m\u001b[0m\n\u001b[0;32m      9\u001b[0m \u001b[0mpop\u001b[0m \u001b[1;33m=\u001b[0m \u001b[0mPopulation\u001b[0m\u001b[1;33m(\u001b[0m\u001b[0madj\u001b[0m\u001b[1;33m=\u001b[0m\u001b[0madjacency\u001b[0m\u001b[1;33m,\u001b[0m \u001b[0mpopulation_size\u001b[0m\u001b[1;33m=\u001b[0m\u001b[1;36m100\u001b[0m\u001b[1;33m)\u001b[0m\u001b[1;33m\u001b[0m\u001b[1;33m\u001b[0m\u001b[0m\n\u001b[1;32m---> 10\u001b[1;33m \u001b[0mpop\u001b[0m\u001b[1;33m.\u001b[0m\u001b[0mrun_genetic_algorithm\u001b[0m\u001b[1;33m(\u001b[0m\u001b[0mnumber_of_iterations\u001b[0m\u001b[1;33m=\u001b[0m\u001b[0mcycle\u001b[0m\u001b[1;33m)\u001b[0m\u001b[1;33m\u001b[0m\u001b[1;33m\u001b[0m\u001b[0m\n\u001b[0m\u001b[0;32m     11\u001b[0m \u001b[0mpop\u001b[0m\u001b[1;33m.\u001b[0m\u001b[0mget_best_result\u001b[0m\u001b[1;33m(\u001b[0m\u001b[1;33m)\u001b[0m\u001b[1;33m\u001b[0m\u001b[1;33m\u001b[0m\u001b[0m\n",
            "\u001b[1;32m<ipython-input-5-60ef0c58faaa>\u001b[0m in \u001b[0;36mrun_genetic_algorithm\u001b[1;34m(self, number_of_iterations, mutation_probability, crossover_probability)\u001b[0m\n\u001b[0;32m     29\u001b[0m \u001b[1;33m\u001b[0m\u001b[0m\n\u001b[0;32m     30\u001b[0m             \u001b[1;32mfor\u001b[0m \u001b[0m_\u001b[0m \u001b[1;32min\u001b[0m \u001b[0mrange\u001b[0m\u001b[1;33m(\u001b[0m\u001b[0mself\u001b[0m\u001b[1;33m.\u001b[0m\u001b[0mpopulation_size\u001b[0m \u001b[1;33m-\u001b[0m \u001b[0mlen\u001b[0m\u001b[1;33m(\u001b[0m\u001b[0mself\u001b[0m\u001b[1;33m.\u001b[0m\u001b[0mpopulation\u001b[0m\u001b[1;33m)\u001b[0m\u001b[1;33m)\u001b[0m\u001b[1;33m:\u001b[0m\u001b[1;33m\u001b[0m\u001b[1;33m\u001b[0m\u001b[0m\n\u001b[1;32m---> 31\u001b[1;33m                 \u001b[0mself\u001b[0m\u001b[1;33m.\u001b[0m\u001b[0mpopulation\u001b[0m\u001b[1;33m.\u001b[0m\u001b[0mappend\u001b[0m\u001b[1;33m(\u001b[0m\u001b[0mChromosome\u001b[0m\u001b[1;33m(\u001b[0m\u001b[0mnumber_of_cities\u001b[0m \u001b[1;33m=\u001b[0m \u001b[1;36m51\u001b[0m\u001b[1;33m,\u001b[0m \u001b[0mnumber_of_traveling_salesman\u001b[0m \u001b[1;33m=\u001b[0m \u001b[1;36m2\u001b[0m\u001b[1;33m,\u001b[0m \u001b[0madj\u001b[0m\u001b[1;33m=\u001b[0m\u001b[0madj\u001b[0m\u001b[1;33m)\u001b[0m\u001b[1;33m)\u001b[0m\u001b[1;33m\u001b[0m\u001b[1;33m\u001b[0m\u001b[0m\n\u001b[0m\u001b[0;32m     32\u001b[0m \u001b[1;33m\u001b[0m\u001b[0m\n\u001b[0;32m     33\u001b[0m             \u001b[1;31m# Mutate globally\u001b[0m\u001b[1;33m\u001b[0m\u001b[1;33m\u001b[0m\u001b[1;33m\u001b[0m\u001b[0m\n",
            "\u001b[1;31mNameError\u001b[0m: name 'adj' is not defined"
          ]
        }
      ]
    },
    {
      "cell_type": "markdown",
      "metadata": {
        "id": "cO5RDzNBCJiZ"
      },
      "source": [
        "## Print best solution"
      ]
    },
    {
      "cell_type": "code",
      "metadata": {
        "id": "ayvkhfPNCJiZ",
        "outputId": "1333dea3-c524-4a8c-a5d3-78b67cdec424"
      },
      "source": [
        "# Iterate through population and get the best solution\n",
        "best_chromosome = pop.population[0]\n",
        "for i in range(1,pop.population_size):\n",
        "    if pop.population[i].score < best_chromosome.score:\n",
        "        best_chromosome = pop.population[i]\n",
        "        \n",
        "# Print best solution\n",
        "for i in range(best_chromosome.m):\n",
        "    print(i+1, \":  \", best_chromosome.solution[i][0]+1, end=\"\", sep=\"\")\n",
        "    for j in range(1,len(best_chromosome.solution[i])):\n",
        "        print(\"-\", best_chromosome.solution[i][j]+1, end=\"\", sep=\"\")\n",
        "    print(\" --- #\", len(best_chromosome.solution[i]))\n",
        "print()\n",
        "\n",
        "# Print cost\n",
        "print(\"Cost: \", best_chromosome.cost)\n",
        "print(\"Minmax: \", best_chromosome.minmax)"
      ],
      "execution_count": 10,
      "outputs": [
        {
          "output_type": "stream",
          "name": "stdout",
          "text": [
            "1:  1-31-22-16-50-34-21-29-35-20-27-32-11-38-49-9-30-10-39-33-45-15-17-4-19-40-41-1 --- # 28\n2:  1-14-25-24-43-23-7-26-8-51-46-12-47-42-44-37-5-2-36-3-28-48-6-13-18-1 --- # 26\n\nCost:  672.621764039144\nMinmax:  319.9995002657031\n"
          ]
        }
      ]
    },
    {
      "cell_type": "code",
      "execution_count": 14,
      "metadata": {},
      "outputs": [
        {
          "output_type": "stream",
          "name": "stdout",
          "text": [
            "1:  1[12]31[12]31[19]22[19]22[31]16[31]16[22]50[22]50[17]34[17]34[23]21[23]21[12]29[12]29[24]35[24]35[34]20[34]20[12]27[12]27[21]32[21]32[42]11[42]11[27]38[27]38[36]49[36]49[19]9[19]9[31]30[31]30[28]10[28]10[46]39[46]39[21]33[21]33[27]45[27]45[7]15[7]15[22]17[22]17[29]4[29]4[33]19[33]19[19]40[19]40[8]41[8]41[16]1[16]1 --- 636# 28\n2:  1[0]14[0]14[15]25[15]25[37]24[37]24[21]43[21]43[28]23[28]23[35]7[35]7[22]26[22]26[16]8[16]8[28]51[28]51[11]46[11]46[25]12[25]12[50]47[50]47[38]42[38]42[35]44[35]44[9]37[9]37[34]5[34]5[36]2[36]2[51]36[51]36[12]3[12]3[15]28[15]28[11]48[11]48[34]6[34]6[41]13[41]13[43]18[43]18[29]1[29]1 --- 676# 26\nCost:   \t672.6\t1312.2\nMinmax: \t320.0\t675.8\n"
          ]
        }
      ],
      "source": [
        "best_chromosome.print()\n",
        "# Print best solution\n",
        "total_cost = 0\n",
        "minmax = 0\n",
        "for i in range(best_chromosome.m):\n",
        "    cost=0\n",
        "    print(i+1, \":  \", best_chromosome.solution[i][0]+1, end=\"\", sep=\"\")\n",
        "    for j in range(1,len(best_chromosome.solution[i])):\n",
        "        # print(\"-\", best_chromosome.solution[i][j]+1, end=\"\", sep=\"\")\n",
        "        print(\"[%.0f]%d\"%(adjacency[i][j],best_chromosome.solution[i][j]+1), end=\"\", sep=\"\")\n",
        "        print(\"[%.0f]%d\"%(adjacency[i][j],best_chromosome.solution[i][j]+1), end=\"\", sep=\"\")\n",
        "        cost+=adjacency[i][j]\n",
        "    total_cost+=cost\n",
        "    if cost>minmax:\n",
        "        minmax = cost\n",
        "    print(\" --- %.0f#\"%(cost), len(best_chromosome.solution[i]))\n",
        "\n",
        "# Print cost\n",
        "print(\"Cost:   \\t%.1f\\t%.1f\"%(best_chromosome.cost,total_cost))\n",
        "print(\"Minmax: \\t%.1f\\t%.1f\"%(best_chromosome.minmax,minmax))"
      ]
    },
    {
      "cell_type": "code",
      "execution_count": null,
      "metadata": {},
      "outputs": [],
      "source": []
    }
  ]
}