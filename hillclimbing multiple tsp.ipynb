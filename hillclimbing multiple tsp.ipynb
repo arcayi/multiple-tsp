{
 "cells": [
  {
   "cell_type": "code",
   "execution_count": 2,
   "metadata": {
    "collapsed": true
   },
   "outputs": [],
   "source": [
    "import numpy as np\n",
    "import copy\n",
    "from tqdm import tqdm"
   ]
  },
  {
   "cell_type": "code",
   "execution_count": 3,
   "metadata": {
    "collapsed": true
   },
   "outputs": [],
   "source": [
    "# Load the graph problem from a .tsp.txt file\n",
    "# data = np.loadtxt('data/eil51.tsp.txt', usecols=[1,2])\n",
    "# data = np.loadtxt('test/test1.txt', usecols=[0,1])\n",
    "# data"
   ]
  },
  {
   "cell_type": "code",
   "execution_count": 4,
   "metadata": {
    "collapsed": true
   },
   "outputs": [],
   "source": [
    "# Helper function to convert the coordinates into an adjacency matrix\n",
    "def coordinates_to_adjacency_matrix(data,ord=2):\n",
    "    a = np.zeros((len(data),len(data)))\n",
    "    for i in range(len(a)):\n",
    "        for j in range(len(a)):\n",
    "            if not i == j:\n",
    "                a[i][j] = np.linalg.norm(data[i] - data[j],ord=ord)\n",
    "    return a"
   ]
  },
  {
   "cell_type": "code",
   "execution_count": 24,
   "metadata": {
    "collapsed": true
   },
   "outputs": [],
   "source": [
    "class Chromosome():\n",
    "    \n",
    "    # Random generated Chromosome\n",
    "    #  m - number of traveling salesmans\n",
    "    # def __init__(self, number_of_cities, number_of_traveling_salesman, adj = coordinates_to_adjacency_matrix(data)):\n",
    "    def __init__(self, number_of_cities, number_of_traveling_salesman, adj):\n",
    "        self.n = number_of_cities\n",
    "        self.m = number_of_traveling_salesman\n",
    "        self.adj = adj\n",
    "        c = np.array(range(1,number_of_cities))\n",
    "        np.random.shuffle(c)\n",
    "        self.solution = np.array_split(c, self.m)\n",
    "        for i in range(len(self.solution)):\n",
    "            self.solution[i] = np.insert(self.solution[i],0,0)\n",
    "            self.solution[i] = np.append(self.solution[i],0)\n",
    "        self.fitness()\n",
    "            \n",
    "    # Evaluate the Chromosome - Fitness function\n",
    "    #  based on 2 features: \n",
    "    #   - overall cost (cumulated from all salesman)\n",
    "    #   - worst (longest) salesman cost\n",
    "    #  adj - adjacency matrix\n",
    "    def fitness(self):\n",
    "        self.cost = 0\n",
    "        self.minmax=0\n",
    "        # longest_salesman_fitness = []\n",
    "        # longest_salesman_length = 0\n",
    "        for i in range(self.m):\n",
    "            salesman = self.solution[i]\n",
    "            salesman_fitness = 0\n",
    "            for j in range(len(salesman) - 1):\n",
    "                salesman_fitness = salesman_fitness + self.adj[salesman[j]][salesman[j+1]]\n",
    "            self.cost = self.cost + salesman_fitness\n",
    "            # if len(salesman) > longest_salesman_length or (len(salesman) == longest_salesman_length and salesman_fitness > self.minmax):\n",
    "            #     longest_salesman_length = len(salesman)\n",
    "            #     self.minmax = salesman_fitness\n",
    "            # if len(salesman) > longest_salesman_length:\n",
    "            #     longest_salesman_length = len(salesman)\n",
    "            if salesman_fitness > self.minmax:\n",
    "                self.minmax = salesman_fitness\n",
    "        self.score =  self.minmax\n",
    "        # printChromesome(self)\n",
    "\n",
    "    # Mutation operator - mutates a single Traveling Salesman\n",
    "    #  by swaping 2 cities\n",
    "    def mutate_local(self):\n",
    "        index = np.random.randint(0,self.m)\n",
    "        mutant = self.solution[index]\n",
    "        i,j = np.random.randint(1,len(mutant)-1), np.random.randint(1,len(mutant)-1)\n",
    "        mutant[i], mutant[j] = mutant[j], mutant[i]\n",
    "        old_cost = self.cost\n",
    "        self.fitness()\n",
    "    \n",
    "    # Mutation operator - mutates 2 Traveling Salesmans\n",
    "    #  by removing a city from a salesman and asigning it to the second one\n",
    "    def mutate_global(self):\n",
    "        for i in range(self.m):\n",
    "            if len(self.solution[i]) < 3:\n",
    "                print(i, self.solution[i])\n",
    "        \n",
    "        \n",
    "        index1, index2 = np.random.randint(0,self.m), np.random.randint(0,self.m)\n",
    "        while index1 == index2:\n",
    "            index1, index2 = np.random.randint(0,self.m), np.random.randint(0,self.m)\n",
    "        while len(self.solution[index1]) < 4:\n",
    "            index1, index2 = np.random.randint(0,self.m), np.random.randint(0,self.m)\n",
    "        mutant1, mutant2 = self.solution[index1], self.solution[index2]\n",
    "        i,j = np.random.randint(1,len(mutant1)-1), np.random.randint(1,len(mutant2)-1)\n",
    "        self.solution[index2] = np.insert(mutant2, j, mutant1[i])\n",
    "        self.solution[index1] = np.delete(mutant1, i)\n",
    "        old_cost = self.cost\n",
    "        self.fitness()\n",
    "\n",
    "    def printChromesome(self):\n",
    "        total_cost = 0\n",
    "        minmax = 0\n",
    "        for i in range(self.m):\n",
    "            salesman = self.solution[i]\n",
    "            cost=0\n",
    "            print(i+1, \":  \", self.solution[i][0]+1, end=\"\", sep=\"\")\n",
    "            for j in range(1,len(self.solution[i])):\n",
    "                # print(\"-\", self.solution[i][j]+1, end=\"\", sep=\"\")\n",
    "                dist=self.adj[salesman[j-1]][salesman[j]]\n",
    "                print(\"[%.0f]%d\"%(dist,self.solution[i][j]+1), end=\"\", sep=\"\")\n",
    "                cost+=dist\n",
    "            total_cost+=cost\n",
    "            if cost>minmax:\n",
    "                minmax = cost\n",
    "            print(\" --- %.0f#\"%(cost), len(self.solution[i]))\n",
    "        # print(\"Cost:   \\t%.1f\\t%.1f\"%(self.cost,total_cost))\n",
    "        # print(\"Minmax: \\t%.1f\\t%.1f\"%(self.minmax,minmax))\n",
    "        print(\"Cost:   \\t%.1f\"%(total_cost))\n",
    "        print(\"Minmax: \\t%.1f\"%(minmax))\n",
    "\n",
    "    "
   ]
  },
  {
   "cell_type": "code",
   "execution_count": 25,
   "metadata": {
    "tags": []
   },
   "outputs": [],
   "source": [
    "def optimize(n_of_ts,coordinates,order,cycle=100000):\n",
    "    adjacency = coordinates_to_adjacency_matrix(coordinates,ord=order)\n",
    "    n_cities = len(coordinates)\n",
    "    # print(\"n_cities:\",n_cities)\n",
    "    chromosome = Chromosome(number_of_cities = n_cities, number_of_traveling_salesman = n_of_ts, adj=adjacency)\n",
    "    for it in tqdm(range(cycle)):\n",
    "        # Mutate globally\n",
    "        chromosome_copy = copy.deepcopy(chromosome)\n",
    "        chromosome_copy.mutate_global()\n",
    "        if chromosome_copy.score < chromosome.score:\n",
    "            chromosome = chromosome_copy\n",
    "        # Mutate locally\n",
    "        chromosome_copy = copy.deepcopy(chromosome)\n",
    "        chromosome_copy.mutate_local()\n",
    "        if chromosome_copy.score < chromosome.score:\n",
    "            chromosome = chromosome_copy\n",
    "    return(chromosome)"
   ]
  },
  {
   "cell_type": "code",
   "execution_count": 22,
   "metadata": {},
   "outputs": [
    {
     "output_type": "stream",
     "name": "stderr",
     "text": [
      "100%|██████████| 100000/100000 [00:22<00:00, 4402.61it/s]\n"
     ]
    }
   ],
   "source": [
    "data = np.loadtxt('data/eil51.tsp.txt', usecols=[1,2])\n",
    "# data = np.loadtxt('test/test1.txt', usecols=[0,1])\n",
    "data\n",
    "\n",
    "ch=optimize(n_of_ts=2,coordinates=data,order=1,cycle=100000)"
   ]
  },
  {
   "cell_type": "code",
   "execution_count": 23,
   "metadata": {},
   "outputs": [
    {
     "output_type": "stream",
     "name": "stdout",
     "text": [
      "1:  1[17]31[43]12[20]11[15]2[71]41[23]18[18]6[33]43[70]42[18]45[9]15[10]37[40]48[30]28[26]32[27]47[23]38[25]22[16]20[22]16[8]9[9]49[31]44[46]25[15]24[33]8[20]23[51]5[25]1"
     ]
    },
    {
     "output_type": "error",
     "ename": "NameError",
     "evalue": "name 'chromosome' is not defined",
     "traceback": [
      "\u001b[1;31m---------------------------------------------------------------------------\u001b[0m",
      "\u001b[1;31mNameError\u001b[0m                                 Traceback (most recent call last)",
      "\u001b[1;32m<ipython-input-23-d499e7fe5015>\u001b[0m in \u001b[0;36m<module>\u001b[1;34m\u001b[0m\n\u001b[1;32m----> 1\u001b[1;33m \u001b[0mch\u001b[0m\u001b[1;33m.\u001b[0m\u001b[0mprintChromesome\u001b[0m\u001b[1;33m(\u001b[0m\u001b[1;33m)\u001b[0m\u001b[1;33m\u001b[0m\u001b[1;33m\u001b[0m\u001b[0m\n\u001b[0m",
      "\u001b[1;32m<ipython-input-20-28d526cb5be6>\u001b[0m in \u001b[0;36mprintChromesome\u001b[1;34m(self)\u001b[0m\n\u001b[0;32m     87\u001b[0m             \u001b[1;32mif\u001b[0m \u001b[0mcost\u001b[0m\u001b[1;33m>\u001b[0m\u001b[0mminmax\u001b[0m\u001b[1;33m:\u001b[0m\u001b[1;33m\u001b[0m\u001b[1;33m\u001b[0m\u001b[0m\n\u001b[0;32m     88\u001b[0m                 \u001b[0mminmax\u001b[0m \u001b[1;33m=\u001b[0m \u001b[0mcost\u001b[0m\u001b[1;33m\u001b[0m\u001b[1;33m\u001b[0m\u001b[0m\n\u001b[1;32m---> 89\u001b[1;33m             \u001b[0mprint\u001b[0m\u001b[1;33m(\u001b[0m\u001b[1;34m\" --- %.0f#\"\u001b[0m\u001b[1;33m%\u001b[0m\u001b[1;33m(\u001b[0m\u001b[0mcost\u001b[0m\u001b[1;33m)\u001b[0m\u001b[1;33m,\u001b[0m \u001b[0mlen\u001b[0m\u001b[1;33m(\u001b[0m\u001b[0mchromosome\u001b[0m\u001b[1;33m.\u001b[0m\u001b[0msolution\u001b[0m\u001b[1;33m[\u001b[0m\u001b[0mi\u001b[0m\u001b[1;33m]\u001b[0m\u001b[1;33m)\u001b[0m\u001b[1;33m)\u001b[0m\u001b[1;33m\u001b[0m\u001b[1;33m\u001b[0m\u001b[0m\n\u001b[0m\u001b[0;32m     90\u001b[0m         \u001b[1;31m# print(\"Cost:   \\t%.1f\\t%.1f\"%(self.cost,total_cost))\u001b[0m\u001b[1;33m\u001b[0m\u001b[1;33m\u001b[0m\u001b[1;33m\u001b[0m\u001b[0m\n\u001b[0;32m     91\u001b[0m         \u001b[1;31m# print(\"Minmax: \\t%.1f\\t%.1f\"%(self.minmax,minmax))\u001b[0m\u001b[1;33m\u001b[0m\u001b[1;33m\u001b[0m\u001b[1;33m\u001b[0m\u001b[0m\n",
      "\u001b[1;31mNameError\u001b[0m: name 'chromosome' is not defined"
     ]
    }
   ],
   "source": [
    "ch.printChromesome()"
   ]
  }
 ],
 "metadata": {
  "kernelspec": {
   "name": "python3",
   "display_name": "Python 3.7.7 64-bit ('data_dev': conda)"
  },
  "language_info": {
   "codemirror_mode": {
    "name": "ipython",
    "version": 3
   },
   "file_extension": ".py",
   "mimetype": "text/x-python",
   "name": "python",
   "nbconvert_exporter": "python",
   "pygments_lexer": "ipython3",
   "version": "3.7.7"
  },
  "interpreter": {
   "hash": "5164fcf79b7474b036f7402bd61ef4d1f436c14bd8c911147b1e4cf6fe6f26eb"
  }
 },
 "nbformat": 4,
 "nbformat_minor": 2
}