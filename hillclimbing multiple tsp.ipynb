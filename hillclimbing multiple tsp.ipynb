{
 "cells": [
  {
   "cell_type": "code",
   "execution_count": 1,
   "source": [
    "import numpy as np\n",
    "import copy\n",
    "from tqdm import tqdm"
   ],
   "outputs": [],
   "metadata": {
    "collapsed": true
   }
  },
  {
   "cell_type": "code",
   "execution_count": 2,
   "source": [
    "# Load the graph problem from a .tsp.txt file\n",
    "# data = np.loadtxt('data/eil51.tsp.txt', usecols=[1,2])\n",
    "# data = np.loadtxt('test/test1.txt', usecols=[0,1])\n",
    "# data"
   ],
   "outputs": [],
   "metadata": {
    "collapsed": true
   }
  },
  {
   "cell_type": "code",
   "execution_count": 3,
   "source": [
    "# Helper function to convert the coordinates into an adjacency matrix\n",
    "def coordinates_to_adjacency_matrix(data,ord=2):\n",
    "    a = np.zeros((len(data),len(data)))\n",
    "    for i in range(len(a)):\n",
    "        for j in range(len(a)):\n",
    "            if not i == j:\n",
    "                a[i][j] = np.linalg.norm(data[i] - data[j],ord=ord)\n",
    "    return a"
   ],
   "outputs": [],
   "metadata": {
    "collapsed": true
   }
  },
  {
   "cell_type": "code",
   "execution_count": 4,
   "source": [
    "class Chromosome():\n",
    "    \n",
    "    # Random generated Chromosome\n",
    "    #  m - number of traveling salesmans\n",
    "    # def __init__(self, number_of_cities, number_of_traveling_salesman, adj = coordinates_to_adjacency_matrix(data)):\n",
    "    def __init__(self, number_of_cities, number_of_traveling_salesman, adj):\n",
    "        self.n = number_of_cities\n",
    "        self.m = number_of_traveling_salesman\n",
    "        self.adj = adj\n",
    "        c = np.array(range(1,number_of_cities))\n",
    "        np.random.shuffle(c)\n",
    "        self.solution = np.array_split(c, self.m)\n",
    "        for i in range(len(self.solution)):\n",
    "            self.solution[i] = np.insert(self.solution[i],0,0)\n",
    "            self.solution[i] = np.append(self.solution[i],0)\n",
    "        self.fitness()\n",
    "            \n",
    "    # Evaluate the Chromosome - Fitness function\n",
    "    #  based on 2 features: \n",
    "    #   - overall cost (cumulated from all salesman)\n",
    "    #   - worst (longest) salesman cost\n",
    "    #  adj - adjacency matrix\n",
    "    def fitness(self):\n",
    "        self.cost = 0\n",
    "        self.minmax=0\n",
    "        # longest_salesman_fitness = []\n",
    "        # longest_salesman_length = 0\n",
    "        for i in range(self.m):\n",
    "            salesman = self.solution[i]\n",
    "            salesman_fitness = 0\n",
    "            for j in range(len(salesman) - 1):\n",
    "                salesman_fitness = salesman_fitness + self.adj[salesman[j]][salesman[j+1]]\n",
    "            self.cost = self.cost + salesman_fitness\n",
    "            # if len(salesman) > longest_salesman_length or (len(salesman) == longest_salesman_length and salesman_fitness > self.minmax):\n",
    "            #     longest_salesman_length = len(salesman)\n",
    "            #     self.minmax = salesman_fitness\n",
    "            # if len(salesman) > longest_salesman_length:\n",
    "            #     longest_salesman_length = len(salesman)\n",
    "            if salesman_fitness > self.minmax:\n",
    "                self.minmax = salesman_fitness\n",
    "        self.score =  self.minmax\n",
    "        # self.print()\n",
    "\n",
    "    # Mutation operator - mutates a single Traveling Salesman\n",
    "    #  by swaping 2 cities\n",
    "    def mutate_local(self):\n",
    "        index = np.random.randint(0,self.m)\n",
    "        mutant = self.solution[index]\n",
    "        i,j = np.random.randint(1,len(mutant)-1), np.random.randint(1,len(mutant)-1)\n",
    "        mutant[i], mutant[j] = mutant[j], mutant[i]\n",
    "        old_cost = self.cost\n",
    "        self.fitness()\n",
    "    \n",
    "    # Mutation operator - mutates 2 Traveling Salesmans\n",
    "    #  by removing a city from a salesman and asigning it to the second one\n",
    "    def mutate_global(self):\n",
    "        for i in range(self.m):\n",
    "            if len(self.solution[i]) < 3:\n",
    "                print(i, self.solution[i])\n",
    "        \n",
    "        \n",
    "        index1, index2 = np.random.randint(0,self.m), np.random.randint(0,self.m)\n",
    "        while index1 == index2:\n",
    "            index1, index2 = np.random.randint(0,self.m), np.random.randint(0,self.m)\n",
    "        while len(self.solution[index1]) < 4:\n",
    "            index1, index2 = np.random.randint(0,self.m), np.random.randint(0,self.m)\n",
    "        mutant1, mutant2 = self.solution[index1], self.solution[index2]\n",
    "        i,j = np.random.randint(1,len(mutant1)-1), np.random.randint(1,len(mutant2)-1)\n",
    "        self.solution[index2] = np.insert(mutant2, j, mutant1[i])\n",
    "        self.solution[index1] = np.delete(mutant1, i)\n",
    "        old_cost = self.cost\n",
    "        self.fitness()\n",
    "\n",
    "    def print(self):\n",
    "        total_cost = 0\n",
    "        minmax = 0\n",
    "        for i in range(self.m):\n",
    "            salesman = self.solution[i]\n",
    "            cost=0\n",
    "            print(i+1, \":  \", self.solution[i][0]+1, end=\"\", sep=\"\")\n",
    "            for j in range(1,len(self.solution[i])):\n",
    "                # print(\"-\", self.solution[i][j]+1, end=\"\", sep=\"\")\n",
    "                dist=self.adj[salesman[j-1]][salesman[j]]\n",
    "                print(\"[%.0f]%d\"%(dist,self.solution[i][j]+1), end=\"\", sep=\"\")\n",
    "                cost+=dist\n",
    "            total_cost+=cost\n",
    "            if cost>minmax:\n",
    "                minmax = cost\n",
    "            print(\" --- %.0f#\"%(cost), len(self.solution[i]))\n",
    "        # print(\"Cost:   \\t%.1f\\t%.1f\"%(self.cost,total_cost))\n",
    "        # print(\"Minmax: \\t%.1f\\t%.1f\"%(self.minmax,minmax))\n",
    "        print(\"Cost:   \\t%.1f\"%(total_cost))\n",
    "        print(\"Minmax: \\t%.1f\"%(minmax))\n",
    "    "
   ],
   "outputs": [],
   "metadata": {
    "collapsed": true
   }
  },
  {
   "cell_type": "code",
   "execution_count": 5,
   "source": [
    "def optimize(n_of_ts,coordinates,order,cycle=100000):\n",
    "    adjacency = coordinates_to_adjacency_matrix(coordinates,ord=order)\n",
    "    n_cities = len(coordinates)\n",
    "    # print(\"n_cities:\",n_cities)\n",
    "    chromosome = Chromosome(number_of_cities = n_cities, number_of_traveling_salesman = n_of_ts, adj=adjacency)\n",
    "    for it in tqdm(range(cycle)):\n",
    "        # Mutate globally\n",
    "        chromosome_copy = copy.deepcopy(chromosome)\n",
    "        chromosome_copy.mutate_global()\n",
    "        if chromosome_copy.score < chromosome.score:\n",
    "            chromosome = chromosome_copy\n",
    "        # Mutate locally\n",
    "        chromosome_copy = copy.deepcopy(chromosome)\n",
    "        chromosome_copy.mutate_local()\n",
    "        if chromosome_copy.score < chromosome.score:\n",
    "            chromosome = chromosome_copy\n",
    "    return(chromosome)"
   ],
   "outputs": [],
   "metadata": {
    "tags": []
   }
  },
  {
   "cell_type": "code",
   "execution_count": 9,
   "source": [
    "# data = np.loadtxt('data/eil51.tsp.txt', usecols=[1,2])\n",
    "data = np.loadtxt('test/test1.txt', usecols=[0,1])\n",
    "data\n",
    "\n",
    "ch=optimize(n_of_ts=2,coordinates=data,order=1,cycle=100000)"
   ],
   "outputs": [
    {
     "output_type": "stream",
     "name": "stderr",
     "text": [
      "100%|██████████| 10000/10000 [00:18<00:00, 542.84it/s]\n"
     ]
    }
   ],
   "metadata": {}
  },
  {
   "cell_type": "code",
   "execution_count": 10,
   "source": [
    "ch.print()"
   ],
   "outputs": [
    {
     "output_type": "stream",
     "name": "stdout",
     "text": [
      "1:  1[1204]319[1067]60[398]286[1230]255[1565]337[1173]138[1935]402[704]40[2355]356[2123]80[558]62[428]500[1583]368[192]279[1364]16[163]12[657]48[280]474[1436]206[1032]208[1801]81[630]19[964]59[1487]429[787]26[687]76[1164]493[414]161[153]43[2229]252[299]367[22]475[449]328[1278]34[387]125[1662]242[1281]38[939]270[231]85[939]141[409]378[604]446[618]183[323]453[2169]215[1281]129[1289]107[2247]180[415]199[2209]65[1728]89[1738]136[562]267[975]194[1175]13[1337]372[569]415[1683]245[195]115[792]236[387]272[320]99[1821]443[1902]164[1051]361[1354]36[1349]419[1430]172[2229]174[160]283[1017]17[1213]301[1794]275[313]173[33]154[2498]159[1108]497[346]381[953]234[157]188[1168]360[418]121[965]114[293]244[156]273[830]186[544]282[759]348[406]382[964]212[549]168[853]370[991]95[483]24[614]196[1750]399[2311]181[669]458[510]224[1141]47[1039]320[743]469[1542]457[1618]198[718]397[660]175[455]100[196]274[1256]42[1208]63[277]7[1450]418[1733]291[1536]292[461]391[1878]73[1282]313[251]394[443]230[1885]130[1145]331[678]91[991]371[329]263[838]6[742]144[1445]445[658]424[390]157[403]14[328]21[458]454[613]303[1570]430[1049]243[1464]209[804]207[1051]41[191]432[121]385[761]412[818]71[658]248[1402]251[1310]353[842]241[1216]468[2016]464[1477]204[915]407[248]496[1079]335[1045]233[2408]352[1362]53[608]191[2120]35[344]288[1049]88[309]466[189]334[1345]238[2243]185[118]77[1674]25[1081]149[694]232[1491]205[361]239[2440]257[411]463[312]310[759]390[1036]119[1747]364[1231]189[1221]160[2262]240[554]298[582]405[1367]449[1192]193[1636]106[525]342[1173]431[449]338[1031]437[349]314[241]170[494]383[132]312[1004]450[317]404[934]380[440]436[638]86[211]434[222]225[833]250[543]329[1073]439[1250]309[1254]111[344]400[725]105[1198]237[1789]373[82]343[488]488[72]253[936]326[1904]302[833]262[1079]102[829]64[221]354[1336]68[63]268[339]435[1640]455[418]220[504]425[1257]75[605]82[275]137[926]304[727]444[1312]148[374]46[1614]499[210]350[1171]31[549]153[921]155[657]202[1803]277[890]190[662]226[1393]116[1615]49[788]223[729]297[1946]84[506]321[426]171[594]29[552]413[297]133[324]184[1343]395[588]211[1389]325[1685]1 --- 239250# 254\n",
      "2:  1[2286]349[381]440[877]362[961]20[807]261[1821]448[1232]484[962]386[1173]375[1657]280[966]152[239]39[71]177[667]69[579]10[933]495[562]227[187]182[1006]50[1679]23[996]147[989]66[1362]351[1549]2[391]258[138]246[2153]461[123]476[897]74[1772]266[705]421[1044]4[1300]494[602]167[528]403[2091]433[1701]332[1661]264[761]322[707]265[1495]142[2065]30[1173]67[580]365[1840]327[709]210[674]477[151]201[877]249[685]311[768]165[1156]97[975]478[375]278[187]61[2104]259[351]369[1116]176[389]427[284]113[1334]72[463]290[790]139[1141]44[703]269[324]409[561]299[495]401[1089]179[617]387[722]305[672]54[654]487[420]315[1106]489[424]470[1109]124[1048]127[842]218[779]214[296]247[218]128[362]308[232]131[1315]213[153]219[1740]330[274]284[1356]333[1261]51[1559]388[3152]70[890]285[684]163[1834]45[381]281[2018]120[719]438[779]473[1114]410[1845]490[1820]465[739]222[565]178[1374]451[218]479[511]289[1066]442[1154]358[297]221[1138]336[552]58[960]200[927]112[1697]235[498]379[1369]90[514]345[1381]79[307]318[1104]452[675]22[1380]195[576]104[693]140[1179]231[1221]296[1723]344[731]366[996]108[660]392[717]324[617]498[602]8[363]216[1318]485[1149]37[2043]162[446]414[834]480[1560]307[960]295[1423]294[2224]447[609]3[2198]426[516]441[965]123[200]228[2048]143[130]317[1604]416[952]423[48]456[1233]359[183]103[2053]482[294]166[1693]98[1895]417[1025]471[978]316[782]287[1124]406[1244]422[1658]78[735]156[1188]486[732]340[142]126[762]96[495]420[874]94[1192]192[1241]15[362]134[821]467[999]11[640]341[838]491[350]87[311]347[402]151[1209]377[2209]150[639]396[890]363[605]389[1600]217[481]293[1286]460[1065]459[1672]146[1711]145[903]384[435]355[842]169[960]260[1126]110[2236]83[1254]357[728]481[877]33[1857]28[1056]306[2294]300[845]109[501]158[1100]428[151]122[1187]411[82]256[1540]376[1012]117[1577]492[1077]408[1025]483[1072]52[583]92[2036]203[971]472[1312]271[1256]462[403]101[805]339[575]393[345]229[591]118[440]346[1208]187[1472]57[1187]398[944]323[648]9[1153]93[742]32[627]27[277]276[236]56[1134]18[1193]374[1186]135[1243]197[431]5[1078]132[1505]254[59]55[764]1 --- 239250# 249\n",
      "Cost:   \t478500.0\n",
      "Minmax: \t239250.0\n"
     ]
    }
   ],
   "metadata": {}
  }
 ],
 "metadata": {
  "kernelspec": {
   "name": "python3",
   "display_name": "Python 3.7.7 64-bit ('data_dev': conda)"
  },
  "language_info": {
   "codemirror_mode": {
    "name": "ipython",
    "version": 3
   },
   "file_extension": ".py",
   "mimetype": "text/x-python",
   "name": "python",
   "nbconvert_exporter": "python",
   "pygments_lexer": "ipython3",
   "version": "3.7.7"
  },
  "interpreter": {
   "hash": "5164fcf79b7474b036f7402bd61ef4d1f436c14bd8c911147b1e4cf6fe6f26eb"
  }
 },
 "nbformat": 4,
 "nbformat_minor": 2
}